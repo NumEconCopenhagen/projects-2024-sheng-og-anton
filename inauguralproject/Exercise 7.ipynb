{
 "cells": [
  {
   "cell_type": "code",
   "execution_count": 1,
   "metadata": {},
   "outputs": [
    {
     "ename": "NameError",
     "evalue": "name 'np' is not defined",
     "output_type": "error",
     "traceback": [
      "\u001b[1;31m---------------------------------------------------------------------------\u001b[0m",
      "\u001b[1;31mNameError\u001b[0m                                 Traceback (most recent call last)",
      "Cell \u001b[1;32mIn[1], line 3\u001b[0m\n\u001b[0;32m      1\u001b[0m \u001b[38;5;66;03m# Exercise 7\u001b[39;00m\n\u001b[0;32m      2\u001b[0m \u001b[38;5;66;03m# 1. First we set a seed, so that we can get the same pseduo-random numbers for the endowments everytime we run the code.\u001b[39;00m\n\u001b[1;32m----> 3\u001b[0m np\u001b[38;5;241m.\u001b[39mrandom\u001b[38;5;241m.\u001b[39mseed(\u001b[38;5;241m69\u001b[39m)\n\u001b[0;32m      5\u001b[0m \u001b[38;5;66;03m# 2. Now we need to set the pseduo-random number of elements (50) in the set of endowments W \u001b[39;00m\n\u001b[0;32m      6\u001b[0m n \u001b[38;5;241m=\u001b[39m \u001b[38;5;241m50\u001b[39m\n",
      "\u001b[1;31mNameError\u001b[0m: name 'np' is not defined"
     ]
    }
   ],
   "source": [
    "# Exercise 7\n",
    "# 1. First we set a seed, so that we can get the same pseduo-random numbers for the endowments everytime we run the code.\n",
    "np.random.seed(69)\n",
    "\n",
    "# 2. Now we need to set the pseduo-random number of elements (50) in the set of endowments W \n",
    "n = 50\n",
    "\n",
    "# 3. We generate psedou-random numbers for the endowments omegaA1 and omegaA2\n",
    "omegaA1 = np.random.uniform(0, 1, n)\n",
    "omegaA2 = np.random.uniform(0, 1, n)\n",
    "\n",
    "# 4. We now create the set of endowments based on our pseduo-random numbers\n",
    "W = np.column_stack((omegaA1, omegaA2))\n",
    "\n",
    "# 5. We can now begin plotting the total endowments\n",
    "plt.figure(figsize=(8, 6))\n",
    "plt.scatter(wA1, wA2, c='green')\n",
    "plt.title('The set of endowments with 50 elements')\n",
    "\n",
    "# a. We label the two axes in the diagram \n",
    "plt.xlabel('ωA1')\n",
    "plt.ylabel('ωA2')\n",
    "\n",
    "# b. We add grids to the plot\n",
    "plt.grid(True)\n",
    "\n",
    "# c. We show the plot\n",
    "plt.show()"
   ]
  }
 ],
 "metadata": {
  "kernelspec": {
   "display_name": "base",
   "language": "python",
   "name": "python3"
  },
  "language_info": {
   "codemirror_mode": {
    "name": "ipython",
    "version": 3
   },
   "file_extension": ".py",
   "mimetype": "text/x-python",
   "name": "python",
   "nbconvert_exporter": "python",
   "pygments_lexer": "ipython3",
   "version": "3.11.5"
  }
 },
 "nbformat": 4,
 "nbformat_minor": 2
}
