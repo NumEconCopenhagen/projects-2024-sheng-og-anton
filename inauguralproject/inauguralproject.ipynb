{
 "cells": [
  {
   "cell_type": "markdown",
   "metadata": {},
   "source": [
    "# Inaugural Project"
   ]
  },
  {
   "attachments": {},
   "cell_type": "markdown",
   "metadata": {},
   "source": [
    "> **Note the following:** \n",
    "> 1. This is an example of how to structure your **inaugural project**.\n",
    "> 1. Remember the general advice on structuring and commenting your code\n",
    "> 1. The `inauguralproject.py` file includes a function which can be used multiple times in this notebook."
   ]
  },
  {
   "cell_type": "markdown",
   "metadata": {},
   "source": [
    "Imports and set magics:"
   ]
  },
  {
   "cell_type": "code",
   "execution_count": 10,
   "metadata": {},
   "outputs": [
    {
     "name": "stdout",
     "output_type": "stream",
     "text": [
      "The autoreload extension is already loaded. To reload it, use:\n",
      "  %reload_ext autoreload\n",
      "The autoreload extension is already loaded. To reload it, use:\n",
      "  %reload_ext autoreload\n"
     ]
    }
   ],
   "source": [
    "import numpy as np\n",
    "\n",
    "# autoreload modules when code is run. Otherwise, python will not see recent changes. \n",
    "%load_ext autoreload\n",
    "%autoreload 2\n",
    "\n",
    "# Import your own code\n",
    "import inauguralproject\n",
    "\n",
    "import matplotlib.pyplot as plt\n",
    "plt.rcParams.update({\"axes.grid\":True,\"grid.color\":\"black\",\"grid.alpha\":\"0.25\",\"grid.linestyle\":\"--\"})\n",
    "plt.rcParams.update({'font.size': 14})\n",
    "\n",
    "%load_ext autoreload\n",
    "%autoreload 2"
   ]
  },
  {
   "cell_type": "markdown",
   "metadata": {},
   "source": [
    "\n",
    "### 2.1. <a id='toc2_1_'></a>[Basic Edgeworth box](#toc0_)"
   ]
  },
  {
   "cell_type": "code",
   "execution_count": 11,
   "metadata": {},
   "outputs": [
    {
     "ename": "ModuleNotFoundError",
     "evalue": "No module named 'ExchangeEconomy'",
     "output_type": "error",
     "traceback": [
      "\u001b[1;31m---------------------------------------------------------------------------\u001b[0m",
      "\u001b[1;31mModuleNotFoundError\u001b[0m                       Traceback (most recent call last)",
      "Cell \u001b[1;32mIn[11], line 1\u001b[0m\n\u001b[1;32m----> 1\u001b[0m \u001b[38;5;28;01mfrom\u001b[39;00m \u001b[38;5;21;01mExchangeEconomy\u001b[39;00m \u001b[38;5;28;01mimport\u001b[39;00m ExchangeEconomyClass\n\u001b[0;32m      3\u001b[0m model \u001b[38;5;241m=\u001b[39m ExchangeEconomyClass()\n\u001b[0;32m      6\u001b[0m par \u001b[38;5;241m=\u001b[39m model\u001b[38;5;241m.\u001b[39mpar\n",
      "\u001b[1;31mModuleNotFoundError\u001b[0m: No module named 'ExchangeEconomy'"
     ]
    }
   ],
   "source": [
    "from ExchangeEconomy import ExchangeEconomyClass\n",
    "\n",
    "model = ExchangeEconomyClass()\n",
    "\n",
    "\n",
    "par = model.par\n",
    "\n",
    "# a. total endowment\n",
    "w1bar = 1.0\n",
    "w2bar = 1.0\n",
    "\n",
    "# b. figure set up\n",
    "fig = plt.figure(frameon=False,figsize=(6,6), dpi=100)\n",
    "ax_A = fig.add_subplot(1, 1, 1)\n",
    "\n",
    "ax_A.set_xlabel(\"$x_1^A$\")\n",
    "ax_A.set_ylabel(\"$x_2^A$\")\n",
    "\n",
    "temp = ax_A.twinx()\n",
    "temp.set_ylabel(\"$x_2^B$\")\n",
    "ax_B = temp.twiny()\n",
    "ax_B.set_xlabel(\"$x_1^B$\")\n",
    "ax_B.invert_xaxis()\n",
    "ax_B.invert_yaxis()\n",
    "\n",
    "# A\n",
    "ax_A.scatter(par.w1A,par.w2A,marker='s',color='black',label='endowment')\n",
    "\n",
    "# limits\n",
    "ax_A.plot([0,w1bar],[0,0],lw=2,color='black')\n",
    "ax_A.plot([0,w1bar],[w2bar,w2bar],lw=2,color='black')\n",
    "ax_A.plot([0,0],[0,w2bar],lw=2,color='black')\n",
    "ax_A.plot([w1bar,w1bar],[0,w2bar],lw=2,color='black')\n",
    "\n",
    "ax_A.set_xlim([-0.1, w1bar + 0.1])\n",
    "ax_A.set_ylim([-0.1, w2bar + 0.1])    \n",
    "ax_B.set_xlim([w1bar + 0.1, -0.1])\n",
    "ax_B.set_ylim([w2bar + 0.1, -0.1])\n",
    "\n",
    "ax_A.legend(frameon=True,loc='upper right',bbox_to_anchor=(1.6,1.0));"
   ]
  },
  {
   "cell_type": "markdown",
   "metadata": {},
   "source": [
    "# Question 1"
   ]
  },
  {
   "cell_type": "markdown",
   "metadata": {},
   "source": [
    "**Explain how you solve the model**"
   ]
  },
  {
   "cell_type": "code",
   "execution_count": null,
   "metadata": {},
   "outputs": [
    {
     "name": "stdout",
     "output_type": "stream",
     "text": [
      "[1 4 9]\n"
     ]
    }
   ],
   "source": [
    "# code for solving the model (remember documentation and comments)\n",
    "\n",
    "a = np.array([1,2,3])\n",
    "b = inauguralproject.square(a)\n",
    "print(b)"
   ]
  },
  {
   "cell_type": "markdown",
   "metadata": {},
   "source": [
    "# Question 2"
   ]
  },
  {
   "cell_type": "markdown",
   "metadata": {},
   "source": [
    "Explain your code and procedure"
   ]
  },
  {
   "cell_type": "code",
   "execution_count": null,
   "metadata": {},
   "outputs": [],
   "source": [
    "# code"
   ]
  },
  {
   "cell_type": "markdown",
   "metadata": {},
   "source": [
    "# Question 3"
   ]
  },
  {
   "cell_type": "markdown",
   "metadata": {},
   "source": [
    "Explain your code and procedure"
   ]
  },
  {
   "cell_type": "code",
   "execution_count": null,
   "metadata": {},
   "outputs": [],
   "source": [
    "# code"
   ]
  },
  {
   "cell_type": "markdown",
   "metadata": {},
   "source": [
    "# Question 4a"
   ]
  },
  {
   "cell_type": "markdown",
   "metadata": {},
   "source": [
    "# Question 4b"
   ]
  },
  {
   "cell_type": "markdown",
   "metadata": {},
   "source": [
    "# Question 5a"
   ]
  },
  {
   "cell_type": "markdown",
   "metadata": {},
   "source": [
    "# Question 6a"
   ]
  },
  {
   "cell_type": "markdown",
   "metadata": {},
   "source": [
    "# Question 6b"
   ]
  },
  {
   "cell_type": "markdown",
   "metadata": {},
   "source": [
    "# Question 7"
   ]
  },
  {
   "cell_type": "markdown",
   "metadata": {},
   "source": [
    "# Question 8\n"
   ]
  },
  {
   "cell_type": "markdown",
   "metadata": {},
   "source": [
    "ADD CONCISE CONLUSION."
   ]
  }
 ],
 "metadata": {
  "kernelspec": {
   "display_name": "base",
   "language": "python",
   "name": "python3"
  },
  "language_info": {
   "codemirror_mode": {
    "name": "ipython",
    "version": 3
   },
   "file_extension": ".py",
   "mimetype": "text/x-python",
   "name": "python",
   "nbconvert_exporter": "python",
   "pygments_lexer": "ipython3",
   "version": "3.11.7"
  },
  "toc-autonumbering": true,
  "vscode": {
   "interpreter": {
    "hash": "47ef90cdf3004d3f859f1fb202523c65c07ba7c22eefd261b181f4744e2d0403"
   }
  }
 },
 "nbformat": 4,
 "nbformat_minor": 4
}
