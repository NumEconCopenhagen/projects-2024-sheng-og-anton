{
 "cells": [
  {
   "cell_type": "code",
   "execution_count": 1,
   "metadata": {},
   "outputs": [],
   "source": [
    "import matplotlib.pyplot as plt\n",
    "plt.rcParams.update({\"axes.grid\":True,\"grid.color\":\"black\",\"grid.alpha\":\"0.25\",\"grid.linestyle\":\"--\"})\n",
    "plt.rcParams.update({'font.size': 14})\n"
   ]
  },
  {
   "cell_type": "code",
   "execution_count": 2,
   "metadata": {},
   "outputs": [],
   "source": [
    "%load_ext autoreload\n",
    "%autoreload 2\n"
   ]
  },
  {
   "cell_type": "code",
   "execution_count": 3,
   "metadata": {},
   "outputs": [
    {
     "ename": "ModuleNotFoundError",
     "evalue": "No module named 'ExchangeEconomy'",
     "output_type": "error",
     "traceback": [
      "\u001b[1;31m---------------------------------------------------------------------------\u001b[0m",
      "\u001b[1;31mModuleNotFoundError\u001b[0m                       Traceback (most recent call last)",
      "Cell \u001b[1;32mIn[3], line 1\u001b[0m\n\u001b[1;32m----> 1\u001b[0m \u001b[38;5;28;01mfrom\u001b[39;00m \u001b[38;5;21;01mExchangeEconomy\u001b[39;00m \u001b[38;5;28;01mimport\u001b[39;00m ExchangeEconomyClass\n",
      "\u001b[1;31mModuleNotFoundError\u001b[0m: No module named 'ExchangeEconomy'"
     ]
    }
   ],
   "source": [
    "from ExchangeEconomy import ExchangeEconomyClass"
   ]
  },
  {
   "cell_type": "code",
   "execution_count": 4,
   "metadata": {},
   "outputs": [
    {
     "name": "stdout",
     "output_type": "stream",
     "text": [
      "The optimal allocation for the utilitarian social planner is the following:\n",
      "((xA1_optimal,xA2_optimal),(xB1_optimal,xB2_optimal)) = ((0.5,0.5),(0.5,0.5))\n"
     ]
    }
   ],
   "source": [
    "# Exercise 6.a\n",
    "from scipy import optimize\n",
    "import numpy as np\n",
    "\n",
    "# 1. we need to define the two utility functions for the consumers\n",
    "# 1.a. consumer A we do it like this\n",
    "def u_A(xA1, xA2):\n",
    "    return xA1 * xA2\n",
    "\n",
    "# 1.b. In the same way we do it for consumer B\n",
    "def u_B(xB1, xB2):\n",
    "    return xB1 * xB2\n",
    "\n",
    "# 2. We need to define the objective function that the utilitarian social planner wants to optimize (maximize)\n",
    "def aggregate_utility(x): # We define the objective function based on the input x\n",
    "    xA1, xA2 = x # We set the two consumer goods xA1 and xA2 equal to the input good to the function\n",
    "    return -(u_A(xA1, xA2) + u_B(1 - xA1, 1 - xA2))  # This calculates the sum of utilities for the two consumers\n",
    "\n",
    "# 3. We need to set up some bounds to the maximization problem given by zero to one\n",
    "bounds = [(0, 1), (0, 1)]\n",
    "\n",
    "# 4. We call the minimizer function from scipy\n",
    "utilitarian_social_planner_solution = optimize.minimize(aggregate_utility, x0=[0.5, 0.5], method='SLSQP', bounds=bounds) # aggregate_utility is the function defined in 2. x0 is the initial guess based on intution. The bounds are the ones defined in 3. \n",
    "\n",
    "# 5. We can now see if ((x_A1,x_A2),(x_B1,x_B2))=((0.5,0.5),(0.5,0.5)) is a possible solution to the utilitarian social planners problem\n",
    "if utilitarian_social_planner_solution.success: # This is the declaration of the if-statement\n",
    "    xA1_optimal, xA2_optimal = utilitarian_social_planner_solution.x\n",
    "    xB1_optimal = 1 - xA1_optimal #\n",
    "    xB2_optimal = 1 - xA2_optimal\n",
    "# 5.a If the if-statement (the optimization) succeeds then this will be printed out\n",
    "    print(\"The optimal allocation for the utilitarian social planner is the following:\")\n",
    "    print(f\"((xA1_optimal,xA2_optimal),(xB1_optimal,xB2_optimal)) = (({xA1_optimal},{xA2_optimal}),({xB1_optimal},{xB2_optimal}))\")\n",
    "# 5.b If the if-statement (the optimization) fails then this will be printed out\n",
    "else:\n",
    "    print(\"The optimal allocation for the utilitarian social planner was not found\")\n"
   ]
  },
  {
   "cell_type": "code",
   "execution_count": null,
   "metadata": {},
   "outputs": [],
   "source": [
    "# Exercise 6.b\n",
    "par = model.par\n",
    "\n",
    "# a. The total endowments in the economy are\n",
    "w1bar = 1.0\n",
    "w2bar = 1.0\n",
    "\n",
    "# b. We then need to set up the figure itself\n",
    "fig = plt.figure(frameon=False,figsize=(6,6), dpi=100)\n",
    "ax_A = fig.add_subplot(1, 1, 1)\n",
    "\n",
    "ax_A.set_xlabel(\"$x_1^A$\") # This creates the label for the x axis \n",
    "ax_A.set_ylabel(\"$x_2^A$\") # This creates label for the y axis\n",
    "\n",
    "temp = ax_A.twinx()\n",
    "temp.set_ylabel(\"$x_2^B$\")\n",
    "ax_B = temp.twiny()\n",
    "ax_B.set_xlabel(\"$x_1^B$\")\n",
    "ax_B.invert_xaxis()\n",
    "ax_B.invert_yaxis()\n",
    "\n",
    "# A\n",
    "ax_A.scatter(xA1_optimal, xA2_optimal,marker='s',color='black',label='endowment')\n",
    "ax_A.scatter(xB1_optimal,xB2_optimal,marker='s',color='black')\n",
    "\n",
    "# limits\n",
    "ax_A.plot([0,w1bar],[0,0],lw=2,color='black')\n",
    "ax_A.plot([0,w1bar],[w2bar,w2bar],lw=2,color='black')\n",
    "ax_A.plot([0,0],[0,w2bar],lw=2,color='black')\n",
    "ax_A.plot([w1bar,w1bar],[0,w2bar],lw=2,color='black')\n",
    "\n",
    "ax_A.set_xlim([-0.1, w1bar + 0.1])\n",
    "ax_A.set_ylim([-0.1, w2bar + 0.1])    \n",
    "ax_B.set_xlim([w1bar + 0.1, -0.1])\n",
    "ax_B.set_ylim([w2bar + 0.1, -0.1])\n",
    "\n",
    "ax_A.legend(frameon=True,loc='upper right',bbox_to_anchor=(1.6,1.0));\n"
   ]
  }
 ],
 "metadata": {
  "kernelspec": {
   "display_name": "base",
   "language": "python",
   "name": "python3"
  },
  "language_info": {
   "codemirror_mode": {
    "name": "ipython",
    "version": 3
   },
   "file_extension": ".py",
   "mimetype": "text/x-python",
   "name": "python",
   "nbconvert_exporter": "python",
   "pygments_lexer": "ipython3",
   "version": "3.11.5"
  }
 },
 "nbformat": 4,
 "nbformat_minor": 2
}
