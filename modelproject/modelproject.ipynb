{
 "cells": [
  {
   "cell_type": "markdown",
   "metadata": {},
   "source": [
    "# RBC model\n"
   ]
  },
  {
   "attachments": {},
   "cell_type": "markdown",
   "metadata": {},
   "source": [
    "> **Note the following:** \n",
    "> 1. This is *not* meant to be an example of an actual **model analysis project**, just an example of how to structure such a project.\n",
    "> 1. Remember the general advice on structuring and commenting your code\n",
    "> 1. The `modelproject.py` file includes a function which could be used multiple times in this notebook."
   ]
  },
  {
   "cell_type": "markdown",
   "metadata": {},
   "source": [
    "Imports and set magics:"
   ]
  },
  {
   "cell_type": "code",
   "execution_count": 1,
   "metadata": {},
   "outputs": [],
   "source": [
    "# 1. We import the packages\n",
    "import numpy as np\n",
    "from scipy import optimize\n",
    "import sympy as sm\n",
    "import pandas as pd\n",
    "\n",
    "# Autoreloads modules when code is run\n",
    "%load_ext autoreload\n",
    "%autoreload 2\n",
    "\n",
    "# We import the local modules\n",
    "import modelproject"
   ]
  },
  {
   "cell_type": "markdown",
   "metadata": {},
   "source": [
    "# Model description"
   ]
  },
  {
   "cell_type": "markdown",
   "metadata": {},
   "source": [
    "**RBC Model Setup - Assumptions** \n",
    "\n",
    "- Time is discrete,  $t\\in\\{0,1,2, \\dots\\}$.\n",
    "\n",
    "- Large numbers of identical price-taking firms.\n",
    "\n",
    "- Large numbers of indentical price-taking households.\n",
    "\n",
    "- Households are infinitely lived."
   ]
  },
  {
   "cell_type": "markdown",
   "metadata": {},
   "source": [
    "**The benevolent social planner solves the optimal growth problem:**\n",
    "$c_t$ is consumption, $l_t$ is leisure for the household, $n_t$ is hours worked, $l_t$ is leisure, and $k_t$ is capital.\n",
    "\n",
    "\\begin{aligned}\n",
    "    \\max_{\\{c_t,n_t,k_{t+1}\\}^{\\infty}_{t=0}} &\\mathbb{E}_0 \\sum^{\\infty}_{t=0} \\beta^t u\\left(c_t, n_t\\right), \\quad \\beta \\in (0,1) \\\\\n",
    "\n",
    "    &\\text{s.t.}\\\\\n",
    "    \n",
    "\\end{aligned}\n",
    "\n",
    "Workhours-leisure constraint: \n",
    "\n",
    "\\begin{aligned}\n",
    "n_t + l_t = 1\n",
    "\\end{aligned} \\\\\n",
    "\n",
    "Technology:\n",
    "\n",
    "\\begin{aligned}\n",
    "\n",
    " y_t &= A_t F(k_t,n_t) \n",
    "\n",
    "\\end{aligned} \\\\\n",
    "\n",
    "The resource constraint:\n",
    "\n",
    "\\begin{aligned}\n",
    "\n",
    " y_t &=c_t+i_t  \n",
    "\n",
    "\\end{aligned} \\\\\n",
    "\n",
    "Capital akkumulation:\n",
    "\\begin{aligned}\n",
    "k_{t+1} &=i_t+(1-\\delta)k_t \n",
    "\\end{aligned}"
   ]
  },
  {
   "cell_type": "markdown",
   "metadata": {},
   "source": [
    "The production function is Cobb-Douglas:\n",
    "\\begin{aligned}\n",
    "F(k_t,n_t) = k_t^\\alpha n_t^{1-\\alpha}\n",
    "\\end{aligned}"
   ]
  },
  {
   "cell_type": "markdown",
   "metadata": {},
   "source": [
    "The utility function:\n",
    "\n",
    "\\begin{aligned}\n",
    "u(c_t,n_t)=log(c_t)+\\psi l_t\n",
    "\\end{aligned}"
   ]
  },
  {
   "cell_type": "markdown",
   "metadata": {},
   "source": [
    "The Lagrangian:"
   ]
  },
  {
   "cell_type": "markdown",
   "metadata": {},
   "source": [
    "\\begin{aligned}\n",
    "L &= \\mathbb{E}_0\\left[ \\sum^{\\infty}_{t=0} \\beta^t u\\left(c_t, n_t\\right) + \\lambda_t \\beta^t (A_t F(k_t,n_t)+(1-\\delta)k_t-c_t-k_{t+1}+\\omega_t\\beta^t(1-l_t-n_t))\\right]\n",
    "\n",
    "\\end{aligned}"
   ]
  },
  {
   "cell_type": "markdown",
   "metadata": {},
   "source": [
    "**First-Order Conditions** \n",
    "\n",
    "\n"
   ]
  },
  {
   "cell_type": "markdown",
   "metadata": {},
   "source": [
    "## Analytical solution"
   ]
  },
  {
   "cell_type": "markdown",
   "metadata": {},
   "source": [
    "If your model allows for an analytical solution, you should provide here.\n",
    "\n",
    "You may use Sympy for this. Then you can characterize the solution as a function of a parameter of the model.\n",
    "\n",
    "To characterize the solution, first derive a steady state equation as a function of a parameter using Sympy.solve and then turn it into a python function by Sympy.lambdify. See the lecture notes for details. "
   ]
  },
  {
   "cell_type": "markdown",
   "metadata": {},
   "source": [
    "## Numerical solution"
   ]
  },
  {
   "cell_type": "markdown",
   "metadata": {},
   "source": [
    "### Linear approxmiations"
   ]
  },
  {
   "cell_type": "markdown",
   "metadata": {},
   "source": [
    "Before we can numerically solve the model then we need to *log linearize* around the steady state. This is because the RBC model is a non-linear model then we have to linerazise around the Steady State. Otherwise, it will be harder to solve numerically."
   ]
  },
  {
   "cell_type": "markdown",
   "metadata": {},
   "source": [
    "In addition, we *log linearize* because it is easier to interpret percentages instead of units. Before we move on, the theory behind linear approxmiation is introduced to make sure the process is clear. The theory is from Alexandre Kohlhas' Macroeconomics III slides."
   ]
  },
  {
   "cell_type": "markdown",
   "metadata": {},
   "source": [
    "The total derivative of $f(x)$ at the steady state level for a vector of variables $x = x_t^*$:"
   ]
  },
  {
   "cell_type": "markdown",
   "metadata": {},
   "source": [
    "\\begin{aligned}\n",
    "    \\text{df}(x_t) = \\sum^n_{j=1} \\dfrac{\\partial f(x_t)}{\\partial x_j}_{|x_t=x^*} dx_j\n",
    "\\end{aligned}"
   ]
  },
  {
   "cell_type": "markdown",
   "metadata": {},
   "source": [
    "So, total differentiation is approxmiately a Taylor approximation of first-order."
   ]
  },
  {
   "cell_type": "markdown",
   "metadata": {},
   "source": [
    "### Log-Linearization"
   ]
  },
  {
   "cell_type": "markdown",
   "metadata": {},
   "source": [
    "The change in our variables is given by:\n",
    "\\begin{aligned}\n",
    "    f(x_t) &= f(y_t, c_t, i_t, n_t, l_t, k_t)\\\\\n",
    "    &= f(\\exp^{\\log\\left(y_t\\right)}, \\exp^{\\log\\left(c_t\\right)}, \\exp^{\\log\\left(i_t\\right)}, \\exp^{\\log\\left(n_t\\right)}, \\exp^{\\log\\left(l_t\\right)}, \\exp^{\\log\\left(k_t\\right)})\n",
    "\\end{aligned}"
   ]
  },
  {
   "cell_type": "markdown",
   "metadata": {},
   "source": [
    "\\begin{aligned}\n",
    "    \\begin{pmatrix}\n",
    "        \\psi c_t\\\\\n",
    "        \\dfrac{1}{c_t}\\\\\n",
    "        y_t\\\\\n",
    "        y_t\\\\\n",
    "        k_{t+1}\\\\\n",
    "        1\n",
    "    \\end{pmatrix} = \\begin{pmatrix} \n",
    "        (1 - \\alpha) z_t \\left(\\dfrac{k_t}{n_t}\\right)^{\\alpha}\\\\\n",
    "        \\beta \\mathbb{E}_t \\left[\\dfrac{1}{c_{t+1}}\\left(\\alpha A_{t+1} \\left(\\dfrac{k_{t+1}}{n_{t+1}}\\right)^{\\alpha-1}\\right) + (1 - \\delta)\\right]\\\\\n",
    "        A_t k_t^{\\alpha}n_t^{1-\\alpha}\\\\\n",
    "        y_t = c_t + i_t\\\\\n",
    "        (1-\\delta)k_t + i_t\\\\\n",
    "        1 + l_t + n_t\n",
    "    \\end{pmatrix}\n",
    "\\end{aligned}"
   ]
  },
  {
   "cell_type": "markdown",
   "metadata": {},
   "source": [
    "To numerically solve the RBC model, we define a system of variables:"
   ]
  },
  {
   "cell_type": "markdown",
   "metadata": {},
   "source": [
    "\\begin{aligned}\n",
    "    x_t &= \\begin{pmatrix} \n",
    "    \\text{Output}\\\\\n",
    "    \\text{Consumption}\\\\\n",
    "    \\text{Investment}\\\\\n",
    "    \\text{Labour}\\\\\n",
    "    \\text{Leisure}\\\\\n",
    "    \\text{Capital}\\\\\n",
    "    \\end{pmatrix}\\\\ \n",
    "    &= \\begin{pmatrix}\n",
    "    y_t \\\\\n",
    "    c_t\\\\\n",
    "    i_t\\\\\n",
    "    n_t\\\\\n",
    "    l_t\\\\\n",
    "    k_t\\\\\n",
    "    \\end{pmatrix}\n",
    "\\end{aligned}"
   ]
  },
  {
   "cell_type": "markdown",
   "metadata": {},
   "source": [
    "Next, we define a paramter space, $\\Theta$:"
   ]
  },
  {
   "cell_type": "markdown",
   "metadata": {},
   "source": [
    "\\begin{aligned}\n",
    "    \\Theta = \\begin{pmatrix} \n",
    "        \\text{Discount rate}\\\\\n",
    "        \\text{Marginal disutility of labour}\\\\\n",
    "        \\text{}\n",
    "        \\text{Capital-share of output}\\\\\n",
    "    \\end{pmatrix}\n",
    "\\end{aligned}"
   ]
  },
  {
   "cell_type": "markdown",
   "metadata": {},
   "source": [
    "Are there any problems with convergence? Does the model converge for all starting values? Make a lot of testing to figure these things out. "
   ]
  },
  {
   "cell_type": "markdown",
   "metadata": {},
   "source": [
    "# Further analysis"
   ]
  },
  {
   "cell_type": "markdown",
   "metadata": {},
   "source": [
    "Make detailed vizualizations of how your model changes with parameter values. \n",
    "\n",
    "Try to make an extension of the model. "
   ]
  },
  {
   "cell_type": "markdown",
   "metadata": {},
   "source": [
    "# Conclusion"
   ]
  }
 ],
 "metadata": {
  "kernelspec": {
   "display_name": "base",
   "language": "python",
   "name": "python3"
  },
  "language_info": {
   "codemirror_mode": {
    "name": "ipython",
    "version": 3
   },
   "file_extension": ".py",
   "mimetype": "text/x-python",
   "name": "python",
   "nbconvert_exporter": "python",
   "pygments_lexer": "ipython3",
   "version": "3.11.7"
  },
  "toc-autonumbering": true,
  "vscode": {
   "interpreter": {
    "hash": "47ef90cdf3004d3f859f1fb202523c65c07ba7c22eefd261b181f4744e2d0403"
   }
  }
 },
 "nbformat": 4,
 "nbformat_minor": 4
}
