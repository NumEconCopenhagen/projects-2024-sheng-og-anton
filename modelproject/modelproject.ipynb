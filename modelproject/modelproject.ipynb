{
 "cells": [
  {
   "cell_type": "markdown",
   "metadata": {},
   "source": [
    "# MODEL PROJECT - RBC MODEL"
   ]
  },
  {
   "cell_type": "markdown",
   "metadata": {},
   "source": [
    "## Table of contents"
   ]
  },
  {
   "cell_type": "markdown",
   "metadata": {},
   "source": [
    "Below is a table of contents which can be used to navigate in the notebook."
   ]
  },
  {
   "cell_type": "markdown",
   "metadata": {},
   "source": [
    "1. [Introduction](#introduction)\n",
    "2. [Model description](#modeldescription)\n",
    "3. [Steady state equations](#steadystateequations)\n",
    "4. [Numerical solution](#numericalsolution)\n",
    "5. [Linear approximations](#linearapproximations)\n",
    "6. [Log-Linearization](#loglinearization)\n",
    "7. [Root finding algorithm](#rootfindingalgorithm)\n",
    "8. [The Log-linearized system of equations](#loglinearsystem)\n",
    "8. [Code](#code)\n",
    "9. [Plot for the steady state values](#plotforss)\n",
    "10. [An extension of the model](#anextensionofthemodel)\n",
    "11. [Different parameters](#differentparameters)\n",
    "12. [Conclusion](#conclusion)"
   ]
  },
  {
   "cell_type": "markdown",
   "metadata": {},
   "source": [
    "## 1. <a id='introduction'></a>[Introduction](#introduction)"
   ]
  },
  {
   "cell_type": "markdown",
   "metadata": {},
   "source": []
  },
  {
   "cell_type": "markdown",
   "metadata": {},
   "source": [
    "# 2. <a id='modeldescription'></a>[Model description](#modeldescription)"
   ]
  },
  {
   "cell_type": "markdown",
   "metadata": {},
   "source": [
    " **Setup for the RBC model - Assumptions** \n",
    "\n",
    "- Time is discrete,  $t\\in\\{0,1,2, \\dots\\}$.\n",
    "\n",
    "- Large numbers of identical price-taking firms.\n",
    "\n",
    "- Large numbers of identical price-taking households.\n",
    "\n",
    "- Households are infinitely lived."
   ]
  },
  {
   "cell_type": "markdown",
   "metadata": {},
   "source": [
    "**The benevolent social planner solves the optimal growth problem:**\n",
    "$c_t$ is consumption, $l_t$ is leisure for the household, $n_t$ is hours worked, $l_t$ is leisure, and $k_t$ is capital.\n",
    "$$\n",
    "\\begin{aligned}\n",
    "    \\max_{\\{c_t,n_t,k_{t+1}\\}^{\\infty}_{t=0}} &\\mathbb{E}_0 \\sum^{\\infty}_{t=0} \\beta^t u\\left(c_t, n_t\\right), \\quad \\beta \\in (0,1) \\\\\n",
    "\n",
    "    &\\text{s.t.}\\\\\n",
    "    \n",
    "\\end{aligned}\n",
    "$$\n",
    "Workhours-leisure constraint: \n",
    "$$\n",
    "\\begin{aligned}\n",
    "    n_t + l_t = 1 \n",
    "\\end{aligned} \\\\\n",
    "$$\n",
    "Technology:\n",
    "$$\n",
    "\\begin{aligned}\n",
    "    y_t = A_t F(k_t,n_t) \n",
    "\\end{aligned} \\\\\n",
    "$$\n",
    "The resource constraint:\n",
    "$$\n",
    "\\begin{aligned}\n",
    "    y_t = c_t + i_t \n",
    "\\end{aligned} \\\\\n",
    "$$\n",
    "Capital accumulation:\n",
    "$$\n",
    "\\begin{aligned}\n",
    "    k_{t+1} = i_t + (1 - \\delta) k_t \n",
    "\\end{aligned}\n",
    "$$"
   ]
  },
  {
   "cell_type": "markdown",
   "metadata": {},
   "source": [
    "The production function is Cobb-Douglas:\n",
    "$$\n",
    "\\begin{aligned}\n",
    "F(k_t,n_t) = k_t^\\alpha n_t^{1-\\alpha} \n",
    "\\end{aligned}\n",
    "$$"
   ]
  },
  {
   "cell_type": "markdown",
   "metadata": {},
   "source": [
    "The utility function:\n",
    "$$\n",
    "\\begin{aligned}\n",
    "    u(c_t,n_t)=\\log{\\left(c_t\\right)}+\\psi l_t \n",
    "\\end{aligned}\n",
    "$$"
   ]
  },
  {
   "cell_type": "markdown",
   "metadata": {},
   "source": [
    "### 3. <a id='steadystateequations'></a>[Steady state equations](#steadystateequations)"
   ]
  },
  {
   "cell_type": "markdown",
   "metadata": {},
   "source": [
    "Steady state consumption\n",
    "$$\n",
    "\\begin{equation*}\n",
    "    u_c(c,l) = \\beta u_c(c,l)[1-\\delta + AF_k(k,n)] \n",
    "\\end{equation*}\n",
    "$$"
   ]
  },
  {
   "cell_type": "markdown",
   "metadata": {},
   "source": [
    "Steady-state capital-labour ratio:\n",
    "$$\n",
    "\\begin{equation*}\n",
    "    \\dfrac{k}{n} = \\left[\\dfrac{\\alpha A }{\\beta^{-1} - 1 + \\delta}\\right]^{1 - \\alpha} \n",
    "\\end{equation*}\n",
    "$$"
   ]
  },
  {
   "cell_type": "markdown",
   "metadata": {},
   "source": [
    "Law of motion for capital:\n",
    "$$\n",
    "\\begin{equation*}\n",
    "    i = \\delta k \n",
    "\\end{equation*}\n",
    "$$"
   ]
  },
  {
   "cell_type": "markdown",
   "metadata": {},
   "source": [
    "Resource contraint in Steady State:\n",
    "$$\n",
    "\\begin{equation*}\n",
    "    \\dfrac{c}{n} = A\\left(\\dfrac{k}{n}\\right)^{\\alpha} - \\delta \\left(\\dfrac{k}{n}\\right) \n",
    "\\end{equation*}\n",
    "$$"
   ]
  },
  {
   "cell_type": "markdown",
   "metadata": {},
   "source": [
    "Labour in Steady State:\n",
    "$$\n",
    "\\begin{equation*}\n",
    "    \\dfrac{c}{n} = A \\dfrac{1 - \\alpha}{\\theta} \\dfrac{1 - n}{n}\\left(\\dfrac{k}{n}\\right)^{\\alpha} \n",
    "\\end{equation*}\n",
    "$$"
   ]
  },
  {
   "cell_type": "markdown",
   "metadata": {},
   "source": [
    "## 4. <a id='steadystateequations'></a>[Numerical solution](#numericalsolution)"
   ]
  },
  {
   "cell_type": "markdown",
   "metadata": {},
   "source": [
    "### 5. <a id='linearapproximations'></a>[Linear approximations](#linearapproximations)"
   ]
  },
  {
   "cell_type": "markdown",
   "metadata": {},
   "source": [
    "Before we can numerically solve the model then we need to *log linearize* around the steady state. This is because the RBC model is a non-linear model then we have to linerazise around the steady state. Otherwise, it will be harder to solve numerically."
   ]
  },
  {
   "cell_type": "markdown",
   "metadata": {},
   "source": [
    "In addition, we *log linearize* because it is easier to interpret percentages instead of units. Before we move on, the theory behind linear approxmiation is introduced to make sure the process is clear. The theory is from Alexandre Kohlhas' Macroeconomics III slides."
   ]
  },
  {
   "cell_type": "markdown",
   "metadata": {},
   "source": [
    "The total derivative of $f(x)$ at the steady state level for a vector of variables $x = x_t^*$:"
   ]
  },
  {
   "cell_type": "markdown",
   "metadata": {},
   "source": [
    "$$\n",
    "\\begin{aligned}\n",
    "    \\text{df}(x_t) = \\sum^n_{j=1} \\dfrac{\\partial f(x_t)}{\\partial x_j}_{|x_t=x^*} dx_j \n",
    "\\end{aligned}\n",
    "$$"
   ]
  },
  {
   "cell_type": "markdown",
   "metadata": {},
   "source": [
    "So, total differentiation is approxmiately a Taylor approximation of first-order."
   ]
  },
  {
   "cell_type": "markdown",
   "metadata": {},
   "source": [
    "### 6. <a id='loglinearization'></a>[Log-Linearization](#loglinearization)"
   ]
  },
  {
   "cell_type": "markdown",
   "metadata": {},
   "source": [
    "The change in our variables is given by:\n",
    "$$\n",
    "\\begin{aligned}\n",
    "    f(x_t) &= f(y_t, c_t, i_t, n_t, l_t, k_t)\\\\\n",
    "    &= f(\\exp^{\\log\\left(y_t\\right)}, \\exp^{\\log\\left(c_t\\right)}, \\exp^{\\log\\left(i_t\\right)}, \\exp^{\\log\\left(n_t\\right)}, \\exp^{\\log\\left(l_t\\right)}, \\exp^{\\log\\left(k_t\\right)}) \n",
    "\\end{aligned}\n",
    "$$"
   ]
  },
  {
   "cell_type": "markdown",
   "metadata": {},
   "source": [
    "Total differentiation in log-linear systems is:"
   ]
  },
  {
   "cell_type": "markdown",
   "metadata": {},
   "source": [
    "$$\n",
    "\\begin{aligned}\n",
    "    df(x_t) = \\sum^n_{j=1} \\left(\\dfrac{\\partial f(x_t)}{\\partial x_j} \\cdot \\exp^{\\log\\left(x_j\\right)}_{|x_t = x^*}\\right) \\cdot d \\log{\\left(x_j\\right)} \n",
    "\\end{aligned}\n",
    "$$"
   ]
  },
  {
   "cell_type": "markdown",
   "metadata": {},
   "source": [
    "Our system of equations is:"
   ]
  },
  {
   "cell_type": "markdown",
   "metadata": {},
   "source": [
    "$$\n",
    "\\begin{aligned}\n",
    "    \\begin{pmatrix}\n",
    "        \\psi c_t\\\\\n",
    "        \\dfrac{1}{c_t}\\\\\n",
    "        y_t\\\\\n",
    "        y_t\\\\\n",
    "        k_{t+1}\\\\\n",
    "        1\n",
    "    \\end{pmatrix} = \\begin{pmatrix} \n",
    "        (1 - \\alpha) z_t \\left(\\dfrac{k_t}{n_t}\\right)^{\\alpha}\\\\\n",
    "        \\beta \\mathbb{E}_t \\left[\\dfrac{1}{c_{t+1}}\\left(\\alpha A_{t+1} \\left(\\dfrac{k_{t+1}}{n_{t+1}}\\right)^{\\alpha-1}\\right) + (1 - \\delta)\\right]\\\\\n",
    "        A_t k_t^{\\alpha}n_t^{1-\\alpha}\\\\\n",
    "        y_t = c_t + i_t\\\\\n",
    "        (1-\\delta)k_t + i_t\\\\\n",
    "        1 + l_t + n_t\n",
    "    \\end{pmatrix}\n",
    "\\end{aligned}\n",
    "$$"
   ]
  },
  {
   "cell_type": "markdown",
   "metadata": {},
   "source": [
    "To numerically solve the RBC model, we define a system of variables:"
   ]
  },
  {
   "cell_type": "markdown",
   "metadata": {},
   "source": [
    "$$\n",
    "    x_t = \\begin{pmatrix} \n",
    "    \\text{Output}\\\\\n",
    "    \\text{Consumption}\\\\\n",
    "    \\text{Investment}\\\\\n",
    "    \\text{Labour}\\\\\n",
    "    \\text{Leisure}\\\\\n",
    "    \\text{Capital}\\\\\n",
    "    \\end{pmatrix}\\\\ \n",
    "    = \\begin{pmatrix}\n",
    "    y_t \\\\\n",
    "    c_t\\\\\n",
    "    i_t\\\\\n",
    "    n_t\\\\\n",
    "    l_t\\\\\n",
    "    k_t\\\\\n",
    "    \\end{pmatrix} \n",
    "$$"
   ]
  },
  {
   "cell_type": "markdown",
   "metadata": {},
   "source": [
    "Next, we define a paramter space, $\\Theta$:"
   ]
  },
  {
   "cell_type": "markdown",
   "metadata": {},
   "source": [
    "$$\n",
    "    \\Theta = \\begin{pmatrix} \n",
    "        \\text{Discount rate}\\\\\n",
    "        \\text{Marginal disutility of labour}\\\\\n",
    "        \\text{Depreciation rate}\\\\\n",
    "        \\text{Capital-share of output}\\\\\n",
    "        \\text{Technology}\n",
    "    \\end{pmatrix}\\\\\n",
    "    = \\begin{pmatrix}\n",
    "        \\beta\\\\\n",
    "        \\theta\\\\\n",
    "        \\delta\\\\\n",
    "        \\alpha\\\\\n",
    "        A\n",
    "    \\end{pmatrix}\\\\\n",
    "    \\approx \\begin{pmatrix}\n",
    "        0.9\\\\ \n",
    "        3\\\\ \n",
    "        0.1\\\\ \n",
    "        1/3\\\\\n",
    "        1\n",
    "    \\end{pmatrix} \n",
    "$$"
   ]
  },
  {
   "cell_type": "markdown",
   "metadata": {},
   "source": [
    "### 7. <a id='rootfindingalgorithm'></a>[Root finding algorithm](#rootfindingalgorithm)"
   ]
  },
  {
   "cell_type": "markdown",
   "metadata": {},
   "source": [
    "We use a root finding algorithm to find the steady state values in the RBC-model. In this subsection, we describe how it works."
   ]
  },
  {
   "cell_type": "markdown",
   "metadata": {},
   "source": [
    "$$\n",
    "    f(x_{t+1}, x_t) = 0 \n",
    "$$"
   ]
  },
  {
   "cell_type": "markdown",
   "metadata": {},
   "source": [
    "$$\n",
    "    \\log{\\left(f_1\\left(e^{\\log{(x_{t+1})}}, e^{\\log{(x_t)}}\\right)\\right)} - \\log{\\left(f_2\\left(e^{\\log{(x_{t+1})}}, e^{\\log{(x_t)}}\\right)\\right)} = 0 \n",
    "$$"
   ]
  },
  {
   "cell_type": "markdown",
   "metadata": {},
   "source": [
    "#### 8. <a id='loglinearsystem'></a>[The Log-linearized system of equations](#loglinearsystem)"
   ]
  },
  {
   "cell_type": "markdown",
   "metadata": {},
   "source": [
    "In this subsection, we write the equations down that we will evalute in the root finding algorithm. We set the equations equal to zero, as we want to find the steady state values."
   ]
  },
  {
   "cell_type": "markdown",
   "metadata": {},
   "source": [
    "$$\n",
    "\\begin{aligned}\n",
    "    \\log{\\left(\\psi\\right)} + \\log{\\left(c_{t+1}\\right)} - \\log{\\left(1 - \\alpha \\right)} - \\log{A} - \\alpha \\cdot \\left(\\log{c_{t+1}} - \\log{n_{t+1}}\\right) \n",
    "\\end{aligned}\n",
    "$$\n",
    "For the consumption euler equation:\n",
    "$$\n",
    "\\begin{aligned}\n",
    "    \\beta \\mathbb{E_t} \\left[\\dfrac{1}{c_{t+1}}\\left(\\alpha A \\left(\\dfrac{k_{t+1}}{n_{t+1}}\\right)^{\\alpha-1}\\right) + (1 - \\delta)\\right] &= \\dfrac{1}{c_t}\\\\\n",
    "    \\dfrac{1}{c_t} - \\beta \\mathbb{E_t} \\left[\\dfrac{1}{c_{t+1}}\\left(\\alpha A \\left(\\dfrac{k_{t+1}}{n_{t+1}}\\right)^{\\alpha-1}\\right) + (1 - \\delta)\\right] &= 0\\\\\n",
    "    - \\log(c_t) - \\mathbb{E_t}\\left[\\log(\\beta) + \\log(c_{t+1}) - \\log\\left(\\dfrac{\\alpha A \\cdot e^{1 - \\alpha} \\cdot \\log(n_{t+1})}{e^{1 - \\alpha} \\cdot \\log(k_{t+1})} \\right) + (1-\\delta)\\right] &= 0 \n",
    "\\end{aligned}\n",
    "$$\n",
    "For the Cobb-Douglas production function:\n",
    "$$\n",
    "\\begin{aligned}\n",
    "    \\log{\\left(y_{t+1}\\right)} - \\log{(A)} - \\alpha \\cdot \\log{\\left(k_{t+1}\\right)} - (1 - \\alpha) \\cdot \\log{\\left(\\log{\\left(n_{t+1}\\right)}\\right)} \n",
    "\\end{aligned}\n",
    "$$\n",
    "For the resource constraint:\n",
    "$$\n",
    "\\begin{aligned}\n",
    "    y_{t+1} &= c_{t+1} + i_{t+1}\\\\\n",
    "    y_{t+1} - c_{t+1} - i_{t+1} &= 0\\\\\n",
    "    \\log{\\left(y_{t+1}\\right)} - \\log{\\left(c_{t+1}\\right)} - \\log{\\left(i_{t+1}\\right)} &= 0\\\\\n",
    "    \\log{\\left(y_{t+1}\\right)} - \\log{\\left(e^{\\log{\\left(c_{t+1}\\right)}} + e^{\\log{\\left(i_{t+1}\\right)}}\\right)} &= 0 \n",
    "\\end{aligned}\n",
    "$$\n",
    "For capital accumulation: \n",
    "$$\n",
    "\\begin{aligned}\n",
    "    k_{t+1} &= (1-\\delta)k_t + i_t\\\\\n",
    "    k_{t+1} - (1-\\delta)k_t - i_t &= 0 \\\\\n",
    "    \\log{\\left(k_{t+1}\\right)} - \\log{\\left(e^{\\log{\\left(i_t\\right)}} + (1-\\delta) \\cdot e^{\\log{\\left(k_t\\right)}}\\right)} &= 0 \n",
    "\\end{aligned}\n",
    "$$\n",
    "For the labour-leisure constraint:\n",
    "$$\n",
    "\\begin{aligned}\n",
    "    n_{t+1} + i_{t+1} &= 1\\\\\n",
    "    1 - n_{t+1} - i_{t+1} &= 0\\\\\n",
    "    - \\log{\\left(e^{\\log{\\left(n_{t+1}\\right)}} + e^{\\log{\\left(i_{t+1}\\right)}}\\right)} &= 0 \n",
    "\\end{aligned}\n",
    "$$"
   ]
  },
  {
   "cell_type": "markdown",
   "metadata": {},
   "source": [
    "### 9. <a id='code'></a>[Code](#code)"
   ]
  },
  {
   "cell_type": "markdown",
   "metadata": {},
   "source": [
    "Before we can numerically solve the RBC model, we must import the relevant packages and user-written modules:"
   ]
  },
  {
   "cell_type": "code",
   "execution_count": 18,
   "metadata": {},
   "outputs": [
    {
     "name": "stdout",
     "output_type": "stream",
     "text": [
      "The autoreload extension is already loaded. To reload it, use:\n",
      "  %reload_ext autoreload\n"
     ]
    }
   ],
   "source": [
    "# 1. Autoreloads modules when code is run\n",
    "%load_ext autoreload\n",
    "%autoreload 2\n",
    "\n",
    "# 2. We import the packages\n",
    "import numpy as np # Used to store the steady state values in a numpy array\n",
    " # Used to find the roots of the system in the algorithm\n",
    "import pandas as pd # Used to \n",
    "import matplotlib.pyplot as plt # Used to plot figures of the steady state values\n",
    "\n",
    "# 3. We import the local modules\n",
    "from modelproject import NumericalSolution # Used to numerically solve the model\n",
    "from modelproject import SteadyStatePlot # Used to plot the steady state values\n",
    "from modelproject import NumericalSolutionCES # Used to numerically solve the extended model\n",
    "from modelproject import RBCModelInteractive\n",
    "from modelproject import SteadyStatePlotCES"
   ]
  },
  {
   "cell_type": "markdown",
   "metadata": {},
   "source": [
    "We store the variables in the RBC-model in a list called 'variables'. We do this as we want to present the results in a table with the name of the variables as the second row:"
   ]
  },
  {
   "cell_type": "code",
   "execution_count": 19,
   "metadata": {},
   "outputs": [],
   "source": [
    "# 1. Saves the names for the variables\n",
    "variables = [\n",
    "    'Output', 'Consumption', 'Investment',\n",
    "    'Labour', 'Leisure', 'Capital'\n",
    "] # (y, c, i, n, )\n",
    "\n",
    "# 2. Saves the names for the parameters\n",
    "parameters = [\n",
    "    'Discount rate', 'Disutility of labor',\n",
    "    'Depreciation rate', 'Capital share', 'Technology'\n",
    "]"
   ]
  },
  {
   "cell_type": "markdown",
   "metadata": {},
   "source": [
    "We now create an instance of the class and then show the steady state values below. For more information, have a look in the [modelproject.py](modelproject.py)-file."
   ]
  },
  {
   "cell_type": "code",
   "execution_count": 20,
   "metadata": {},
   "outputs": [
    {
     "data": {
      "text/html": [
       "<div>\n",
       "<style scoped>\n",
       "    .dataframe tbody tr th:only-of-type {\n",
       "        vertical-align: middle;\n",
       "    }\n",
       "\n",
       "    .dataframe tbody tr th {\n",
       "        vertical-align: top;\n",
       "    }\n",
       "\n",
       "    .dataframe thead th {\n",
       "        text-align: right;\n",
       "    }\n",
       "</style>\n",
       "<table border=\"1\" class=\"dataframe\">\n",
       "  <thead>\n",
       "    <tr style=\"text-align: right;\">\n",
       "      <th></th>\n",
       "      <th>0</th>\n",
       "      <th>1</th>\n",
       "      <th>2</th>\n",
       "      <th>3</th>\n",
       "      <th>4</th>\n",
       "    </tr>\n",
       "  </thead>\n",
       "  <tbody>\n",
       "    <tr>\n",
       "      <th>Name</th>\n",
       "      <td>Discount rate</td>\n",
       "      <td>Disutility of labor</td>\n",
       "      <td>Depreciation rate</td>\n",
       "      <td>Capital share</td>\n",
       "      <td>Technology</td>\n",
       "    </tr>\n",
       "    <tr>\n",
       "      <th>Value</th>\n",
       "      <td>0.9</td>\n",
       "      <td>3.0</td>\n",
       "      <td>0.1</td>\n",
       "      <td>0.3</td>\n",
       "      <td>1.0</td>\n",
       "    </tr>\n",
       "  </tbody>\n",
       "</table>\n",
       "</div>"
      ],
      "text/plain": [
       "                   0                    1                  2              3  \\\n",
       "Name   Discount rate  Disutility of labor  Depreciation rate  Capital share   \n",
       "Value            0.9                  3.0                0.1            0.3   \n",
       "\n",
       "                4  \n",
       "Name   Technology  \n",
       "Value         1.0  "
      ]
     },
     "execution_count": 20,
     "metadata": {},
     "output_type": "execute_result"
    }
   ],
   "source": [
    "parameter_values = pd.DataFrame({\n",
    "    # a. The names for the variables\n",
    "    'Name': parameters,\n",
    "    # b. The values for the variables\n",
    "    'Value': [0.9, 3, 0.1, 1/3, 1]\n",
    "})\n",
    "\n",
    "# 2. Rounds the decimals to only one decimal\n",
    "parameter_values['Value'] = parameter_values['Value'].round(1)\n",
    "\n",
    "# 3. Shows the parameter values\n",
    "parameter_values.T# 1. We give some reasonable parameter values for our parameters in the Real Business Cycle Model\n"
   ]
  },
  {
   "cell_type": "code",
   "execution_count": 21,
   "metadata": {},
   "outputs": [
    {
     "name": "stdout",
     "output_type": "stream",
     "text": [
      "The table for the steady state values for the variables can be seen below:\n"
     ]
    },
    {
     "data": {
      "text/html": [
       "<div>\n",
       "<style scoped>\n",
       "    .dataframe tbody tr th:only-of-type {\n",
       "        vertical-align: middle;\n",
       "    }\n",
       "\n",
       "    .dataframe tbody tr th {\n",
       "        vertical-align: top;\n",
       "    }\n",
       "\n",
       "    .dataframe thead th {\n",
       "        text-align: right;\n",
       "    }\n",
       "</style>\n",
       "<table border=\"1\" class=\"dataframe\">\n",
       "  <thead>\n",
       "    <tr style=\"text-align: right;\">\n",
       "      <th></th>\n",
       "      <th>Output</th>\n",
       "      <th>Consumption</th>\n",
       "      <th>Investment</th>\n",
       "      <th>Labour</th>\n",
       "      <th>Leisure</th>\n",
       "      <th>Capital</th>\n",
       "    </tr>\n",
       "  </thead>\n",
       "  <tbody>\n",
       "    <tr>\n",
       "      <th>Steady state value</th>\n",
       "      <td>0.859492</td>\n",
       "      <td>0.737353</td>\n",
       "      <td>0.122138</td>\n",
       "      <td>0.739328</td>\n",
       "      <td>0.260672</td>\n",
       "      <td>1.221383</td>\n",
       "    </tr>\n",
       "  </tbody>\n",
       "</table>\n",
       "</div>"
      ],
      "text/plain": [
       "                      Output  Consumption  Investment    Labour   Leisure  \\\n",
       "Steady state value  0.859492     0.737353    0.122138  0.739328  0.260672   \n",
       "\n",
       "                     Capital  \n",
       "Steady state value  1.221383  "
      ]
     },
     "execution_count": 21,
     "metadata": {},
     "output_type": "execute_result"
    }
   ],
   "source": [
    "# 1. Create an instance of the class for maximizing the roots\n",
    "numericsolution = NumericalSolution(parameter_values['Value'])\n",
    "\n",
    "# 2. Store the steady state values in a DataFrame\n",
    "steady_state_values = pd.DataFrame({\n",
    "    # a. Set up the row for the values\n",
    "    'Steady state value': numericsolution.steady_state_numeric()\n",
    "    # b. Set up the columns for the variables\n",
    "}, index=variables)\n",
    "\n",
    "# 3. Round the number of decimals to be two\n",
    "steady_state_values['Steady state value'] = steady_state_values['Steady state value']\n",
    "\n",
    "# 4. A print statement for the table\n",
    "print(\"The table for the steady state values for the variables can be seen below:\")\n",
    "\n",
    "# 5. Show the steady state values \n",
    "steady_state_values.T"
   ]
  },
  {
   "cell_type": "markdown",
   "metadata": {},
   "source": [
    "#### Plot for the steady state values"
   ]
  },
  {
   "cell_type": "markdown",
   "metadata": {},
   "source": [
    "To get a visual illustration of the steady state values, we plot them "
   ]
  },
  {
   "cell_type": "code",
   "execution_count": 22,
   "metadata": {},
   "outputs": [
    {
     "data": {
      "image/png": "[encoded data removed]",
      "text/plain": [
       "<Figure size 1000x600 with 1 Axes>"
      ]
     },
     "metadata": {},
     "output_type": "display_data"
    }
   ],
   "source": [
    "# 1. We create an instance of the class\n",
    "simpleplot = SteadyStatePlot(variables, steady_state_values)\n",
    "\n",
    "# 2. We plot the steady state values in a simple plot\n",
    "simpleplot.simpleplot()"
   ]
  },
  {
   "cell_type": "code",
   "execution_count": 23,
   "metadata": {},
   "outputs": [
    {
     "data": {
      "application/vnd.jupyter.widget-view+json": {
       "model_id": "32e9c90945d242c38922aae5d1730252",
       "version_major": 2,
       "version_minor": 0
      },
      "text/plain": [
       "interactive(children=(FloatSlider(value=0.9, description='discount_rate', max=1.0, min=0.1), FloatSlider(value…"
      ]
     },
     "metadata": {},
     "output_type": "display_data"
    }
   ],
   "source": [
    "# 1. We create an instance of the class\n",
    "interactive_model = RBCModelInteractive()\n",
    "\n",
    "# 2. We plot the steady state values in an interactive plot\n",
    "interactive_model.create_interactive_plot()"
   ]
  },
  {
   "cell_type": "markdown",
   "metadata": {},
   "source": [
    "### An extension of the model"
   ]
  },
  {
   "cell_type": "markdown",
   "metadata": {},
   "source": [
    "Our model extension involves replacing the Cobb-Douglas production function with a Constant Elasticity of Substitution (CES) function. "
   ]
  },
  {
   "cell_type": "markdown",
   "metadata": {},
   "source": [
    "CES production function:\n",
    "\\begin{equation}\n",
    "    y_t = [\\alpha k_t^{\\rho} + (1 - \\alpha )n_t^{\\rho}]^{\\frac{1}{\\rho}}\n",
    "\\end{equation}"
   ]
  },
  {
   "cell_type": "code",
   "execution_count": 24,
   "metadata": {},
   "outputs": [
    {
     "name": "stdout",
     "output_type": "stream",
     "text": [
      "The table for the steady state values for the variables can be seen below:\n"
     ]
    },
    {
     "data": {
      "text/html": [
       "<div>\n",
       "<style scoped>\n",
       "    .dataframe tbody tr th:only-of-type {\n",
       "        vertical-align: middle;\n",
       "    }\n",
       "\n",
       "    .dataframe tbody tr th {\n",
       "        vertical-align: top;\n",
       "    }\n",
       "\n",
       "    .dataframe thead th {\n",
       "        text-align: right;\n",
       "    }\n",
       "</style>\n",
       "<table border=\"1\" class=\"dataframe\">\n",
       "  <thead>\n",
       "    <tr style=\"text-align: right;\">\n",
       "      <th></th>\n",
       "      <th>Output</th>\n",
       "      <th>Consumption</th>\n",
       "      <th>Investment</th>\n",
       "      <th>Labour</th>\n",
       "      <th>Leisure</th>\n",
       "      <th>Capital</th>\n",
       "    </tr>\n",
       "  </thead>\n",
       "  <tbody>\n",
       "    <tr>\n",
       "      <th>value</th>\n",
       "      <td>0.896886</td>\n",
       "      <td>0.759042</td>\n",
       "      <td>0.137844</td>\n",
       "      <td>0.694765</td>\n",
       "      <td>0.305235</td>\n",
       "      <td>1.378444</td>\n",
       "    </tr>\n",
       "  </tbody>\n",
       "</table>\n",
       "</div>"
      ],
      "text/plain": [
       "         Output  Consumption  Investment    Labour   Leisure   Capital\n",
       "value  0.896886     0.759042    0.137844  0.694765  0.305235  1.378444"
      ]
     },
     "execution_count": 24,
     "metadata": {},
     "output_type": "execute_result"
    }
   ],
   "source": [
    "# 1. We redefine the parameters and variables by including 'rho'\n",
    "parameters_CES = ['Discount rate', 'Disutility of labor', 'Depreciation rate', 'Capital share', 'Technology', 'rho']\n",
    "\n",
    "# 2. Store the steady state values in a Pandas DataFrame\n",
    "parameter_values_ces = pd.DataFrame({\n",
    "    'name': parameters_CES,\n",
    "    'value': [0.9, 3, 0.1, 1/3, 1, 0.5] # Parameter values can be adjusted to see the change in steady state.\n",
    "})\n",
    "\n",
    "# 3. Create an instance of the class for maximizing the roots in the extended model\n",
    "numericsolutionces = NumericalSolutionCES(parameter_values_ces['value'])\n",
    "\n",
    "# 4. Store the steady state values for the extended model in a DataFrame\n",
    "steady_state_values_CES = pd.DataFrame({\n",
    "    'value': numericsolutionces.steady_state_numeric()\n",
    "}, index=variables)\n",
    "\n",
    "# 5. Show the steady state values for the extended model\n",
    "print(\"The table for the steady state values for the variables can be seen below:\")\n",
    "steady_state_values_CES.T"
   ]
  },
  {
   "cell_type": "code",
   "execution_count": 25,
   "metadata": {},
   "outputs": [
    {
     "data": {
      "image/png": "[encoded data removed]",
      "text/plain": [
       "<Figure size 1000x600 with 1 Axes>"
      ]
     },
     "metadata": {},
     "output_type": "display_data"
    }
   ],
   "source": [
    "\n",
    "\n",
    "# Create an instance of SteadyStatePlotCES\n",
    "plot_ces = SteadyStatePlotCES(variables, steady_state_values_CES)\n",
    "\n",
    "# Plot the CES steady state values\n",
    "plot_ces.simpleplot_ces()"
   ]
  },
  {
   "cell_type": "markdown",
   "metadata": {},
   "source": [
    "# Conclusion"
   ]
  },
  {
   "cell_type": "markdown",
   "metadata": {},
   "source": [
    "The numerical analysis of the simple RBC model, using the Cobb-Douglas production function and its extension of the CES production function, shows that, generally, steady-state values are lower for the RBC model employing the Cobb-Douglas function compared to when the CES function is used, with labor being the exception."
   ]
  }
 ],
 "metadata": {
  "kernelspec": {
   "display_name": "base",
   "language": "python",
   "name": "python3"
  },
  "language_info": {
   "codemirror_mode": {
    "name": "ipython",
    "version": 3
   },
   "file_extension": ".py",
   "mimetype": "text/x-python",
   "name": "python",
   "nbconvert_exporter": "python",
   "pygments_lexer": "ipython3",
   "version": "3.11.7"
  },
  "toc-autonumbering": true,
  "vscode": {
   "interpreter": {
    "hash": "47ef90cdf3004d3f859f1fb202523c65c07ba7c22eefd261b181f4744e2d0403"
   }
  }
 },
 "nbformat": 4,
 "nbformat_minor": 4
}
